{
 "cells": [
  {
   "cell_type": "markdown",
   "id": "54b06755",
   "metadata": {},
   "source": [
    "### Quadrinôme :\n",
    "- BOULARIACHE Abdessamed\n",
    "- KEMOUM Meroua\n",
    "- MAHIDDINE Mohamed Amine\n",
    "- TAZIR reda"
   ]
  },
  {
   "cell_type": "markdown",
   "id": "d458c1f3",
   "metadata": {},
   "source": [
    "# Projet de fin de semestre - Spam Classification -"
   ]
  },
  {
   "cell_type": "markdown",
   "id": "8b63961d",
   "metadata": {},
   "source": [
    "- Goal : A potential goal would be to learn how to classify emails as spam or non-spam.\n",
    "- Dataset : The dataset is a set consisting of emails as text data and their spam and non-spam labels.\n",
    "- Category : Since we are working with class labels (spam, non-spam), this is a supervised learning problem.\n",
    "- Measure Performance : Predict class labels in the test dataset and count the number of correct predictions to asses the prediction accuracy."
   ]
  },
  {
   "cell_type": "code",
   "execution_count": 76,
   "id": "0a594eee",
   "metadata": {},
   "outputs": [],
   "source": [
    "import os\n",
    "import re\n",
    "import pandas as pd\n",
    "import numpy as np\n",
    "\n",
    "from email import message_from_string\n",
    "from email import policy\n",
    "from email import message\n",
    "\n",
    "import nltk\n",
    "from nltk.tokenize import word_tokenize\n",
    "from nltk.stem.snowball import SnowballStemmer\n",
    "\n",
    "from sklearn.feature_extraction.text import TfidfVectorizer\n",
    "#from sklearn.feature_extraction.text import CountVectorizer\n",
    "\n",
    "from sklearn.feature_extraction._stop_words import ENGLISH_STOP_WORDS\n",
    "\n",
    "from sklearn.linear_model import LogisticRegression\n",
    "from sklearn.naive_bayes import MultinomialNB\n",
    "from sklearn import svm\n",
    "from sklearn.metrics import accuracy_score\n",
    "from sklearn.metrics import roc_curve\n",
    "import matplotlib.pyplot as plt"
   ]
  },
  {
   "cell_type": "markdown",
   "id": "33e903ef",
   "metadata": {},
   "source": [
    "# Préparation des données"
   ]
  },
  {
   "cell_type": "markdown",
   "id": "0bad5973",
   "metadata": {},
   "source": [
    "#### Fonction pour extraire le corps d'un email"
   ]
  },
  {
   "cell_type": "code",
   "execution_count": 77,
   "id": "a26c5b87",
   "metadata": {},
   "outputs": [],
   "source": [
    "from email import message_from_bytes\n",
    "def email_body(content) :\n",
    "    msg = message_from_bytes(content, policy=policy.default)\n",
    "    strtext = ''\n",
    "    if msg.is_multipart():\n",
    "        for part in msg.walk():\n",
    "            payload = part.get_payload(decode=True) #returns a bytes object\n",
    "            \n",
    "            if payload is None:\n",
    "                        continue\n",
    "\n",
    "            strtext = strtext + payload.decode(errors=\"ignore\") #utf-8 is default\n",
    "\n",
    "    else:\n",
    "        payload = msg.get_payload(decode=True)\n",
    "        strtext = payload.decode(errors=\"ignore\")\n",
    "\n",
    "    return strtext"
   ]
  },
  {
   "cell_type": "markdown",
   "id": "f3251214",
   "metadata": {},
   "source": [
    "### Importation des emails"
   ]
  },
  {
   "cell_type": "code",
   "execution_count": 78,
   "id": "ae141509",
   "metadata": {},
   "outputs": [],
   "source": [
    "\n",
    "# extract emails main content from emails directory\n",
    "def import_emails_from_directory(path) : \n",
    "\n",
    "    emails = []\n",
    "    for filename in os.listdir(path) :\n",
    "        try:\n",
    "            file = open(os.path.join(path, filename), \"rb\")\n",
    "            content = file.read()\n",
    "            \n",
    "            emails.append(email_body(content))\n",
    "            \n",
    "        except OSError as exception:\n",
    "            print(exception)\n",
    "    return emails\n"
   ]
  },
  {
   "cell_type": "code",
   "execution_count": 79,
   "id": "93e268f1",
   "metadata": {
    "scrolled": true
   },
   "outputs": [],
   "source": [
    "path = \"ressources\\spam_2\" #\"ressources/test\" #\n",
    "x_spam = []\n",
    "x_spam = import_emails_from_directory(path)"
   ]
  },
  {
   "cell_type": "code",
   "execution_count": 80,
   "id": "d171583a",
   "metadata": {},
   "outputs": [
    {
     "data": {
      "text/plain": [
       "1396"
      ]
     },
     "execution_count": 80,
     "metadata": {},
     "output_type": "execute_result"
    }
   ],
   "source": [
    "len(x_spam)"
   ]
  },
  {
   "cell_type": "code",
   "execution_count": 82,
   "id": "537ec5c5",
   "metadata": {},
   "outputs": [],
   "source": [
    "path = \"ressources\\easy_ham_2\" \n",
    "x_ham = []\n",
    "x_ham = import_emails_from_directory(path)"
   ]
  },
  {
   "cell_type": "code",
   "execution_count": 83,
   "id": "9456d26b",
   "metadata": {},
   "outputs": [
    {
     "data": {
      "text/plain": [
       "1400"
      ]
     },
     "execution_count": 83,
     "metadata": {},
     "output_type": "execute_result"
    }
   ],
   "source": [
    "len(x_ham)"
   ]
  },
  {
   "cell_type": "code",
   "execution_count": 84,
   "id": "37fb4161",
   "metadata": {},
   "outputs": [],
   "source": [
    "def nettoyage_email(email):\n",
    "    \n",
    "    # Conversion en minuscules.\n",
    "    email = email.lower()\n",
    "    \n",
    "    # Suppression de balises HTML\n",
    "    email = re.sub('<[^<>]+>', '', email)\n",
    "    \n",
    "    # Normalisation des adresses e-mail : toutes les adresses e-mail devront être remplacées avec le texte \"emailaddr\".\n",
    "    email = re.sub('[^\\s]+@[^\\s]+', 'emailaddr', email)\n",
    "\n",
    "    # Normalisation des URL : Toutes les URL devront être remplacées par le texte « httpaddr ».\n",
    "    regex = r\"[(http(s)?):\\/\\/(www\\.)?a-zA-Z0-9@:%._\\+~#=]{2,256}\\.[a-z]{2,6}\\b([-a-zA-Z0-9@:%_\\+.~#?&//=]*)\"\n",
    "    email = re.sub(regex, 'httpaddr', email)\n",
    "    \n",
    "    # Normalisation des nombres : Tous les nombres devront être remplacés par le texte \"number\".\n",
    "    email = re.sub('[0-9]+', ' number ', email)\n",
    "    \n",
    "    # Normalisation des dollars : Tous les signes dollar ($)devront être remplacés par le texte \"dollar\".\n",
    "    email = re.sub('[$]+', ' dollar ', email)\n",
    "     \n",
    "    # Suppression des non-mots : les non-mots et la ponctuation devront être supprimés. Tous les espaces\n",
    "    # blancs (onglets, nouvelles lignes, espaces) devront être remplacés par un seul espace.\n",
    "    email = re.sub('[^A-Za-z]+', ' ', email)\n",
    "                       \n",
    "    # Radicalisation de mots : Les mots devront être réduits à leur forme radicale.\n",
    "        # ex : \"discounts\", \"discounted\" et \"discounting\" devront être tous remplacé par \" discount\"\n",
    "        \n",
    "    nltk.download('punkt', quiet=True) #download required package for tokenization\n",
    "    tokenized_email = word_tokenize(email)\n",
    "    \n",
    "    liste_tokens = []\n",
    "    \n",
    "    for token in tokenized_email :\n",
    "        \n",
    "        # Create the stemmer.\n",
    "        stemmer = SnowballStemmer(\"english\")\n",
    "        \n",
    "        # Stem the word.\n",
    "        token = stemmer.stem(token)\n",
    "        \n",
    "        #ignorer une chaine vide\n",
    "        if not len(token): \n",
    "            continue\n",
    "        \n",
    "        liste_tokens.append(token)\n",
    "    \n",
    "    email = \" \".join(liste_tokens)\n",
    "    \n",
    "    return email"
   ]
  },
  {
   "cell_type": "markdown",
   "id": "120edcd3",
   "metadata": {},
   "source": [
    "# Organisation des caractéristiques"
   ]
  },
  {
   "cell_type": "markdown",
   "id": "aeec856b",
   "metadata": {},
   "source": [
    "### Features"
   ]
  },
  {
   "cell_type": "code",
   "execution_count": 15,
   "id": "7d7a9768",
   "metadata": {},
   "outputs": [],
   "source": [
    "emails = []\n",
    "# ajout des emails spam à la liste des emails \n",
    "for x in x_spam :\n",
    "    emails.append(nettoyage_email(x))\n",
    "# ajout des emails non-spam à la liste des emails \n",
    "for x in x_ham :\n",
    "    emails.append(nettoyage_email(x))"
   ]
  },
  {
   "cell_type": "code",
   "execution_count": 32,
   "id": "6066fcad",
   "metadata": {},
   "outputs": [],
   "source": [
    "X = np.asarray(emails)"
   ]
  },
  {
   "cell_type": "code",
   "execution_count": 33,
   "id": "ab3b486f",
   "metadata": {},
   "outputs": [
    {
     "data": {
      "text/plain": [
       "(2796,)"
      ]
     },
     "execution_count": 33,
     "metadata": {},
     "output_type": "execute_result"
    }
   ],
   "source": [
    "X.shape"
   ]
  },
  {
   "cell_type": "markdown",
   "id": "2b79cec0",
   "metadata": {},
   "source": [
    "### Labels"
   ]
  },
  {
   "cell_type": "markdown",
   "id": "4e95d07b",
   "metadata": {},
   "source": [
    "- spam (y = 1) \n",
    "- non-spam (y = 0)."
   ]
  },
  {
   "cell_type": "code",
   "execution_count": 21,
   "id": "9c2ba46d",
   "metadata": {},
   "outputs": [],
   "source": [
    "y_size = len(x_spam)+len(x_ham)\n",
    "Y = np.zeros(y_size).astype(int)\n",
    "#fill first half of \"Y\" with ones\n",
    "Y[:len(x_spam)-1] = 1\n"
   ]
  },
  {
   "cell_type": "code",
   "execution_count": 22,
   "id": "8258916a",
   "metadata": {},
   "outputs": [
    {
     "data": {
      "text/plain": [
       "array([1, 1, 1, ..., 0, 0, 0])"
      ]
     },
     "execution_count": 22,
     "metadata": {},
     "output_type": "execute_result"
    }
   ],
   "source": [
    "Y"
   ]
  },
  {
   "cell_type": "code",
   "execution_count": 34,
   "id": "b7a08365",
   "metadata": {},
   "outputs": [
    {
     "data": {
      "text/plain": [
       "(2796,)"
      ]
     },
     "execution_count": 34,
     "metadata": {},
     "output_type": "execute_result"
    }
   ],
   "source": [
    "Y.shape"
   ]
  },
  {
   "cell_type": "markdown",
   "id": "4a440ebe",
   "metadata": {},
   "source": [
    "## Splitting the data into training data and test data"
   ]
  },
  {
   "cell_type": "code",
   "execution_count": 35,
   "id": "6eefa2b5",
   "metadata": {},
   "outputs": [],
   "source": [
    "from sklearn.model_selection import train_test_split\n",
    "X_train, X_test, Y_train, Y_test = train_test_split(X, Y, test_size=0.2, random_state=1)"
   ]
  },
  {
   "cell_type": "code",
   "execution_count": 37,
   "id": "0eb0e186",
   "metadata": {},
   "outputs": [
    {
     "name": "stdout",
     "output_type": "stream",
     "text": [
      "(2236,)\n",
      "(560,)\n"
     ]
    }
   ],
   "source": [
    "print(X_train.shape)\n",
    "print(X_test.shape)"
   ]
  },
  {
   "cell_type": "markdown",
   "id": "9bb36f4d",
   "metadata": {},
   "source": [
    "# Construction du vocabulaire et Extraction des caractéristiques"
   ]
  },
  {
   "cell_type": "markdown",
   "id": "54f0dd4b",
   "metadata": {},
   "source": [
    "#### Vectorization en utilisant le module TfidfVectorizer\n",
    "- Comme les données textuelles ne peuvent pas être utilisés directement, nous utiliseront dans ce qui suit la Fonction de vectorisation \"TF-IDF\" présente dans la librairie scikit-learn.\n",
    "Cette technique nous permet de traduire les données textuelles sous formes de vecteur numérique représentant la fréquence d'apparition des mots par un indicateur de similarité (si ce mot est commun ou rare dans tous les documents). \n",
    "Pour ce projet on éliminera les mots qui se produisent rarement dans l'ensemble de nos données."
   ]
  },
  {
   "cell_type": "code",
   "execution_count": 42,
   "id": "4f0d9221",
   "metadata": {},
   "outputs": [
    {
     "data": {
      "text/html": [
       "<div>\n",
       "<style scoped>\n",
       "    .dataframe tbody tr th:only-of-type {\n",
       "        vertical-align: middle;\n",
       "    }\n",
       "\n",
       "    .dataframe tbody tr th {\n",
       "        vertical-align: top;\n",
       "    }\n",
       "\n",
       "    .dataframe thead th {\n",
       "        text-align: right;\n",
       "    }\n",
       "</style>\n",
       "<table border=\"1\" class=\"dataframe\">\n",
       "  <thead>\n",
       "    <tr style=\"text-align: right;\">\n",
       "      <th></th>\n",
       "      <th>abil</th>\n",
       "      <th>abl</th>\n",
       "      <th>abov</th>\n",
       "      <th>absolut</th>\n",
       "      <th>abus</th>\n",
       "      <th>ac</th>\n",
       "      <th>accept</th>\n",
       "      <th>access</th>\n",
       "      <th>accord</th>\n",
       "      <th>account</th>\n",
       "      <th>...</th>\n",
       "      <th>wrote</th>\n",
       "      <th>www</th>\n",
       "      <th>yahoo</th>\n",
       "      <th>yeah</th>\n",
       "      <th>year</th>\n",
       "      <th>yes</th>\n",
       "      <th>york</th>\n",
       "      <th>zero</th>\n",
       "      <th>zip</th>\n",
       "      <th>label</th>\n",
       "    </tr>\n",
       "  </thead>\n",
       "  <tbody>\n",
       "    <tr>\n",
       "      <th>0</th>\n",
       "      <td>0.0000</td>\n",
       "      <td>0.000000</td>\n",
       "      <td>0.0</td>\n",
       "      <td>0.0</td>\n",
       "      <td>0.000000</td>\n",
       "      <td>0.0</td>\n",
       "      <td>0.000000</td>\n",
       "      <td>0.069299</td>\n",
       "      <td>0.000000</td>\n",
       "      <td>0.0</td>\n",
       "      <td>...</td>\n",
       "      <td>0.000000</td>\n",
       "      <td>0.0</td>\n",
       "      <td>0.0</td>\n",
       "      <td>0.0</td>\n",
       "      <td>0.053850</td>\n",
       "      <td>0.000000</td>\n",
       "      <td>0.0</td>\n",
       "      <td>0.0</td>\n",
       "      <td>0.000000</td>\n",
       "      <td>1</td>\n",
       "    </tr>\n",
       "    <tr>\n",
       "      <th>1</th>\n",
       "      <td>0.0000</td>\n",
       "      <td>0.000000</td>\n",
       "      <td>0.0</td>\n",
       "      <td>0.0</td>\n",
       "      <td>0.086600</td>\n",
       "      <td>0.0</td>\n",
       "      <td>0.063483</td>\n",
       "      <td>0.000000</td>\n",
       "      <td>0.000000</td>\n",
       "      <td>0.0</td>\n",
       "      <td>...</td>\n",
       "      <td>0.000000</td>\n",
       "      <td>0.0</td>\n",
       "      <td>0.0</td>\n",
       "      <td>0.0</td>\n",
       "      <td>0.000000</td>\n",
       "      <td>0.064818</td>\n",
       "      <td>0.0</td>\n",
       "      <td>0.0</td>\n",
       "      <td>0.000000</td>\n",
       "      <td>1</td>\n",
       "    </tr>\n",
       "    <tr>\n",
       "      <th>2</th>\n",
       "      <td>0.0000</td>\n",
       "      <td>0.000000</td>\n",
       "      <td>0.0</td>\n",
       "      <td>0.0</td>\n",
       "      <td>0.000000</td>\n",
       "      <td>0.0</td>\n",
       "      <td>0.000000</td>\n",
       "      <td>0.000000</td>\n",
       "      <td>0.000000</td>\n",
       "      <td>0.0</td>\n",
       "      <td>...</td>\n",
       "      <td>0.056958</td>\n",
       "      <td>0.0</td>\n",
       "      <td>0.0</td>\n",
       "      <td>0.0</td>\n",
       "      <td>0.000000</td>\n",
       "      <td>0.000000</td>\n",
       "      <td>0.0</td>\n",
       "      <td>0.0</td>\n",
       "      <td>0.000000</td>\n",
       "      <td>0</td>\n",
       "    </tr>\n",
       "    <tr>\n",
       "      <th>3</th>\n",
       "      <td>0.0000</td>\n",
       "      <td>0.000000</td>\n",
       "      <td>0.0</td>\n",
       "      <td>0.0</td>\n",
       "      <td>0.217813</td>\n",
       "      <td>0.0</td>\n",
       "      <td>0.000000</td>\n",
       "      <td>0.000000</td>\n",
       "      <td>0.000000</td>\n",
       "      <td>0.0</td>\n",
       "      <td>...</td>\n",
       "      <td>0.000000</td>\n",
       "      <td>0.0</td>\n",
       "      <td>0.0</td>\n",
       "      <td>0.0</td>\n",
       "      <td>0.000000</td>\n",
       "      <td>0.000000</td>\n",
       "      <td>0.0</td>\n",
       "      <td>0.0</td>\n",
       "      <td>0.000000</td>\n",
       "      <td>1</td>\n",
       "    </tr>\n",
       "    <tr>\n",
       "      <th>4</th>\n",
       "      <td>0.0000</td>\n",
       "      <td>0.000000</td>\n",
       "      <td>0.0</td>\n",
       "      <td>0.0</td>\n",
       "      <td>0.000000</td>\n",
       "      <td>0.0</td>\n",
       "      <td>0.000000</td>\n",
       "      <td>0.000000</td>\n",
       "      <td>0.000000</td>\n",
       "      <td>0.0</td>\n",
       "      <td>...</td>\n",
       "      <td>0.000000</td>\n",
       "      <td>0.0</td>\n",
       "      <td>0.0</td>\n",
       "      <td>0.0</td>\n",
       "      <td>0.000000</td>\n",
       "      <td>0.000000</td>\n",
       "      <td>0.0</td>\n",
       "      <td>0.0</td>\n",
       "      <td>0.000000</td>\n",
       "      <td>0</td>\n",
       "    </tr>\n",
       "    <tr>\n",
       "      <th>...</th>\n",
       "      <td>...</td>\n",
       "      <td>...</td>\n",
       "      <td>...</td>\n",
       "      <td>...</td>\n",
       "      <td>...</td>\n",
       "      <td>...</td>\n",
       "      <td>...</td>\n",
       "      <td>...</td>\n",
       "      <td>...</td>\n",
       "      <td>...</td>\n",
       "      <td>...</td>\n",
       "      <td>...</td>\n",
       "      <td>...</td>\n",
       "      <td>...</td>\n",
       "      <td>...</td>\n",
       "      <td>...</td>\n",
       "      <td>...</td>\n",
       "      <td>...</td>\n",
       "      <td>...</td>\n",
       "      <td>...</td>\n",
       "      <td>...</td>\n",
       "    </tr>\n",
       "    <tr>\n",
       "      <th>2231</th>\n",
       "      <td>0.0284</td>\n",
       "      <td>0.000000</td>\n",
       "      <td>0.0</td>\n",
       "      <td>0.0</td>\n",
       "      <td>0.000000</td>\n",
       "      <td>0.0</td>\n",
       "      <td>0.000000</td>\n",
       "      <td>0.088870</td>\n",
       "      <td>0.014853</td>\n",
       "      <td>0.0</td>\n",
       "      <td>...</td>\n",
       "      <td>0.000000</td>\n",
       "      <td>0.0</td>\n",
       "      <td>0.0</td>\n",
       "      <td>0.0</td>\n",
       "      <td>0.000000</td>\n",
       "      <td>0.000000</td>\n",
       "      <td>0.0</td>\n",
       "      <td>0.0</td>\n",
       "      <td>0.000000</td>\n",
       "      <td>0</td>\n",
       "    </tr>\n",
       "    <tr>\n",
       "      <th>2232</th>\n",
       "      <td>0.0000</td>\n",
       "      <td>0.005356</td>\n",
       "      <td>0.0</td>\n",
       "      <td>0.0</td>\n",
       "      <td>0.000000</td>\n",
       "      <td>0.0</td>\n",
       "      <td>0.000000</td>\n",
       "      <td>0.000000</td>\n",
       "      <td>0.014257</td>\n",
       "      <td>0.0</td>\n",
       "      <td>...</td>\n",
       "      <td>0.000000</td>\n",
       "      <td>0.0</td>\n",
       "      <td>0.0</td>\n",
       "      <td>0.0</td>\n",
       "      <td>0.004143</td>\n",
       "      <td>0.000000</td>\n",
       "      <td>0.0</td>\n",
       "      <td>0.0</td>\n",
       "      <td>0.000000</td>\n",
       "      <td>1</td>\n",
       "    </tr>\n",
       "    <tr>\n",
       "      <th>2233</th>\n",
       "      <td>0.0000</td>\n",
       "      <td>0.000000</td>\n",
       "      <td>0.0</td>\n",
       "      <td>0.0</td>\n",
       "      <td>0.000000</td>\n",
       "      <td>0.0</td>\n",
       "      <td>0.000000</td>\n",
       "      <td>0.000000</td>\n",
       "      <td>0.000000</td>\n",
       "      <td>0.0</td>\n",
       "      <td>...</td>\n",
       "      <td>0.000000</td>\n",
       "      <td>0.0</td>\n",
       "      <td>0.0</td>\n",
       "      <td>0.0</td>\n",
       "      <td>0.000000</td>\n",
       "      <td>0.000000</td>\n",
       "      <td>0.0</td>\n",
       "      <td>0.0</td>\n",
       "      <td>0.068852</td>\n",
       "      <td>1</td>\n",
       "    </tr>\n",
       "    <tr>\n",
       "      <th>2234</th>\n",
       "      <td>0.0000</td>\n",
       "      <td>0.000000</td>\n",
       "      <td>0.0</td>\n",
       "      <td>0.0</td>\n",
       "      <td>0.000000</td>\n",
       "      <td>0.0</td>\n",
       "      <td>0.000000</td>\n",
       "      <td>0.000000</td>\n",
       "      <td>0.000000</td>\n",
       "      <td>0.0</td>\n",
       "      <td>...</td>\n",
       "      <td>0.000000</td>\n",
       "      <td>0.0</td>\n",
       "      <td>0.0</td>\n",
       "      <td>0.0</td>\n",
       "      <td>0.000000</td>\n",
       "      <td>0.000000</td>\n",
       "      <td>0.0</td>\n",
       "      <td>0.0</td>\n",
       "      <td>0.099536</td>\n",
       "      <td>1</td>\n",
       "    </tr>\n",
       "    <tr>\n",
       "      <th>2235</th>\n",
       "      <td>0.0000</td>\n",
       "      <td>0.000000</td>\n",
       "      <td>0.0</td>\n",
       "      <td>0.0</td>\n",
       "      <td>0.000000</td>\n",
       "      <td>0.0</td>\n",
       "      <td>0.000000</td>\n",
       "      <td>0.000000</td>\n",
       "      <td>0.000000</td>\n",
       "      <td>0.0</td>\n",
       "      <td>...</td>\n",
       "      <td>0.000000</td>\n",
       "      <td>0.0</td>\n",
       "      <td>0.0</td>\n",
       "      <td>0.0</td>\n",
       "      <td>0.000000</td>\n",
       "      <td>0.000000</td>\n",
       "      <td>0.0</td>\n",
       "      <td>0.0</td>\n",
       "      <td>0.000000</td>\n",
       "      <td>1</td>\n",
       "    </tr>\n",
       "  </tbody>\n",
       "</table>\n",
       "<p>2236 rows × 1597 columns</p>\n",
       "</div>"
      ],
      "text/plain": [
       "        abil       abl  abov  absolut      abus   ac    accept    access  \\\n",
       "0     0.0000  0.000000   0.0      0.0  0.000000  0.0  0.000000  0.069299   \n",
       "1     0.0000  0.000000   0.0      0.0  0.086600  0.0  0.063483  0.000000   \n",
       "2     0.0000  0.000000   0.0      0.0  0.000000  0.0  0.000000  0.000000   \n",
       "3     0.0000  0.000000   0.0      0.0  0.217813  0.0  0.000000  0.000000   \n",
       "4     0.0000  0.000000   0.0      0.0  0.000000  0.0  0.000000  0.000000   \n",
       "...      ...       ...   ...      ...       ...  ...       ...       ...   \n",
       "2231  0.0284  0.000000   0.0      0.0  0.000000  0.0  0.000000  0.088870   \n",
       "2232  0.0000  0.005356   0.0      0.0  0.000000  0.0  0.000000  0.000000   \n",
       "2233  0.0000  0.000000   0.0      0.0  0.000000  0.0  0.000000  0.000000   \n",
       "2234  0.0000  0.000000   0.0      0.0  0.000000  0.0  0.000000  0.000000   \n",
       "2235  0.0000  0.000000   0.0      0.0  0.000000  0.0  0.000000  0.000000   \n",
       "\n",
       "        accord  account  ...     wrote  www  yahoo  yeah      year       yes  \\\n",
       "0     0.000000      0.0  ...  0.000000  0.0    0.0   0.0  0.053850  0.000000   \n",
       "1     0.000000      0.0  ...  0.000000  0.0    0.0   0.0  0.000000  0.064818   \n",
       "2     0.000000      0.0  ...  0.056958  0.0    0.0   0.0  0.000000  0.000000   \n",
       "3     0.000000      0.0  ...  0.000000  0.0    0.0   0.0  0.000000  0.000000   \n",
       "4     0.000000      0.0  ...  0.000000  0.0    0.0   0.0  0.000000  0.000000   \n",
       "...        ...      ...  ...       ...  ...    ...   ...       ...       ...   \n",
       "2231  0.014853      0.0  ...  0.000000  0.0    0.0   0.0  0.000000  0.000000   \n",
       "2232  0.014257      0.0  ...  0.000000  0.0    0.0   0.0  0.004143  0.000000   \n",
       "2233  0.000000      0.0  ...  0.000000  0.0    0.0   0.0  0.000000  0.000000   \n",
       "2234  0.000000      0.0  ...  0.000000  0.0    0.0   0.0  0.000000  0.000000   \n",
       "2235  0.000000      0.0  ...  0.000000  0.0    0.0   0.0  0.000000  0.000000   \n",
       "\n",
       "      york  zero       zip  label  \n",
       "0      0.0   0.0  0.000000      1  \n",
       "1      0.0   0.0  0.000000      1  \n",
       "2      0.0   0.0  0.000000      0  \n",
       "3      0.0   0.0  0.000000      1  \n",
       "4      0.0   0.0  0.000000      0  \n",
       "...    ...   ...       ...    ...  \n",
       "2231   0.0   0.0  0.000000      0  \n",
       "2232   0.0   0.0  0.000000      1  \n",
       "2233   0.0   0.0  0.068852      1  \n",
       "2234   0.0   0.0  0.099536      1  \n",
       "2235   0.0   0.0  0.000000      1  \n",
       "\n",
       "[2236 rows x 1597 columns]"
      ]
     },
     "execution_count": 42,
     "metadata": {},
     "output_type": "execute_result"
    }
   ],
   "source": [
    "# Stop-words filtering : ignore words like “and”, “the”, “him”, which are presumed to be uninformative\n",
    "\n",
    "#min_df is used for removing terms that appear too infrequently\n",
    "#min_df = 0.01 means \"ignore terms that appear in less than 1% of the documents\"\n",
    "\n",
    "tfidf_vectorizer = TfidfVectorizer(min_df = 0.01, stop_words=list(ENGLISH_STOP_WORDS))\n",
    "\n",
    "X_train_features = tfidf_vectorizer.fit_transform(X_train).toarray()\n",
    "\n",
    "X_test_features = tfidf_vectorizer.transform(X_test).toarray()\n",
    "\n",
    "feature_names = tfidf_vectorizer.get_feature_names_out()\n",
    "\n",
    "df = pd.DataFrame(X_train_features, columns= feature_names)\n",
    "df[\"label\"] = Y_train\n",
    "df\n"
   ]
  },
  {
   "cell_type": "code",
   "execution_count": 43,
   "id": "b9d560c3",
   "metadata": {},
   "outputs": [
    {
     "data": {
      "text/plain": [
       "(2236, 1597)"
      ]
     },
     "execution_count": 43,
     "metadata": {},
     "output_type": "execute_result"
    }
   ],
   "source": [
    "df.shape"
   ]
  },
  {
   "cell_type": "code",
   "execution_count": 44,
   "id": "434b084e",
   "metadata": {},
   "outputs": [
    {
     "data": {
      "text/plain": [
       "(1596,)"
      ]
     },
     "execution_count": 44,
     "metadata": {},
     "output_type": "execute_result"
    }
   ],
   "source": [
    "feature_names.shape"
   ]
  },
  {
   "cell_type": "markdown",
   "id": "a1096271",
   "metadata": {},
   "source": [
    "### Extraction de la liste complète du vocabulaire après construction"
   ]
  },
  {
   "cell_type": "code",
   "execution_count": 45,
   "id": "dbdec1d0",
   "metadata": {},
   "outputs": [],
   "source": [
    "vocab_file = open(r\"resultats\\vocab.txt\", \"w\")\n",
    "for element in feature_names:\n",
    "    vocab_file.write(element + \"\\n\")\n",
    "vocab_file.close()"
   ]
  },
  {
   "cell_type": "markdown",
   "id": "e6491ad1",
   "metadata": {},
   "source": [
    "### Extraction des données après construction"
   ]
  },
  {
   "cell_type": "code",
   "execution_count": 46,
   "id": "dd98339e",
   "metadata": {},
   "outputs": [],
   "source": [
    "df.to_csv(r'resultats\\data1.csv')"
   ]
  },
  {
   "cell_type": "code",
   "execution_count": null,
   "id": "fd6d1f50",
   "metadata": {},
   "outputs": [],
   "source": []
  },
  {
   "cell_type": "markdown",
   "id": "6bb1a8e9",
   "metadata": {},
   "source": [
    "# Classification"
   ]
  },
  {
   "cell_type": "markdown",
   "id": "9fdedd09",
   "metadata": {},
   "source": [
    "## Régression logistique"
   ]
  },
  {
   "cell_type": "code",
   "execution_count": 49,
   "id": "c520b872",
   "metadata": {},
   "outputs": [
    {
     "data": {
      "text/plain": [
       "LogisticRegression()"
      ]
     },
     "execution_count": 49,
     "metadata": {},
     "output_type": "execute_result"
    }
   ],
   "source": [
    "logreg = LogisticRegression()\n",
    "logreg.fit(X_train_features, Y_train)"
   ]
  },
  {
   "cell_type": "markdown",
   "id": "1204c67b",
   "metadata": {},
   "source": [
    "#### Prediction sur les données d'entrainement"
   ]
  },
  {
   "cell_type": "code",
   "execution_count": 51,
   "id": "fec7dd34",
   "metadata": {},
   "outputs": [],
   "source": [
    "y_pred = logreg.predict(X_train_features)\n",
    "accuracy_training = accuracy_score(Y_train, y_pred)"
   ]
  },
  {
   "cell_type": "code",
   "execution_count": 52,
   "id": "8b4dd774",
   "metadata": {},
   "outputs": [
    {
     "name": "stdout",
     "output_type": "stream",
     "text": [
      "accuracy on training data :  0.9883720930232558\n"
     ]
    }
   ],
   "source": [
    "print(\"accuracy on training data : \", accuracy_training)"
   ]
  },
  {
   "cell_type": "markdown",
   "id": "58b1ef75",
   "metadata": {},
   "source": [
    "#### Prediction sur les données de test"
   ]
  },
  {
   "cell_type": "code",
   "execution_count": 53,
   "id": "0c161b93",
   "metadata": {},
   "outputs": [],
   "source": [
    "y_pred_test = logreg.predict(X_test_features)\n",
    "accuracy_test = accuracy_score(Y_test, y_pred_test)"
   ]
  },
  {
   "cell_type": "code",
   "execution_count": 54,
   "id": "cbfd9895",
   "metadata": {},
   "outputs": [
    {
     "name": "stdout",
     "output_type": "stream",
     "text": [
      "accuracy on test data :  0.975\n"
     ]
    }
   ],
   "source": [
    "print(\"accuracy on test data : \", accuracy_test)"
   ]
  },
  {
   "cell_type": "markdown",
   "id": "4d3569c6",
   "metadata": {},
   "source": [
    "#### Roc curve"
   ]
  },
  {
   "cell_type": "code",
   "execution_count": 58,
   "id": "66d67109",
   "metadata": {},
   "outputs": [
    {
     "data": {
      "image/png": "[encoded data removed]",
      "text/plain": [
       "<Figure size 432x288 with 1 Axes>"
      ]
     },
     "metadata": {
      "needs_background": "light"
     },
     "output_type": "display_data"
    }
   ],
   "source": [
    "fpr, tpr, _ = roc_curve(Y_test,  y_pred_test)\n",
    "\n",
    "#create ROC curve\n",
    "plt.plot(fpr,tpr)\n",
    "plt.ylabel('True Positive Rate')\n",
    "plt.xlabel('False Positive Rate')\n",
    "plt.show()"
   ]
  },
  {
   "cell_type": "code",
   "execution_count": null,
   "id": "36478a8b",
   "metadata": {},
   "outputs": [],
   "source": []
  },
  {
   "cell_type": "markdown",
   "id": "05272a4b",
   "metadata": {},
   "source": [
    "## Naive Bayes"
   ]
  },
  {
   "cell_type": "code",
   "execution_count": 61,
   "id": "6432fb0c",
   "metadata": {},
   "outputs": [
    {
     "data": {
      "text/plain": [
       "MultinomialNB()"
      ]
     },
     "execution_count": 61,
     "metadata": {},
     "output_type": "execute_result"
    }
   ],
   "source": [
    "naive_bayes = MultinomialNB()\n",
    "naive_bayes.fit(X_train_features, Y_train)"
   ]
  },
  {
   "cell_type": "code",
   "execution_count": null,
   "id": "7372cb91",
   "metadata": {},
   "outputs": [],
   "source": []
  },
  {
   "cell_type": "markdown",
   "id": "4f0f3dee",
   "metadata": {},
   "source": [
    "#### Prediction sur les données d'entrainement"
   ]
  },
  {
   "cell_type": "code",
   "execution_count": 62,
   "id": "89857166",
   "metadata": {},
   "outputs": [],
   "source": [
    "y_pred = naive_bayes.predict(X_train_features)\n",
    "accuracy_training = accuracy_score(Y_train, y_pred)"
   ]
  },
  {
   "cell_type": "code",
   "execution_count": 63,
   "id": "fc56db75",
   "metadata": {},
   "outputs": [
    {
     "name": "stdout",
     "output_type": "stream",
     "text": [
      "accuracy on training data :  0.9798747763864043\n"
     ]
    }
   ],
   "source": [
    "print(\"accuracy on training data : \", accuracy_training)"
   ]
  },
  {
   "cell_type": "markdown",
   "id": "9a688caf",
   "metadata": {},
   "source": [
    "#### Prediction sur les données de test"
   ]
  },
  {
   "cell_type": "code",
   "execution_count": 64,
   "id": "93790c75",
   "metadata": {},
   "outputs": [],
   "source": [
    "y_pred_test = naive_bayes.predict(X_test_features)\n",
    "accuracy_test = accuracy_score(Y_test, y_pred_test)"
   ]
  },
  {
   "cell_type": "code",
   "execution_count": 65,
   "id": "70fa4d79",
   "metadata": {},
   "outputs": [
    {
     "name": "stdout",
     "output_type": "stream",
     "text": [
      "accuracy on test data :  0.9696428571428571\n"
     ]
    }
   ],
   "source": [
    "print(\"accuracy on test data : \", accuracy_test)"
   ]
  },
  {
   "cell_type": "markdown",
   "id": "54b338b7",
   "metadata": {},
   "source": [
    "#### Roc curve"
   ]
  },
  {
   "cell_type": "code",
   "execution_count": 66,
   "id": "ef2b1721",
   "metadata": {},
   "outputs": [
    {
     "data": {
      "image/png": "[encoded data removed]",
      "text/plain": [
       "<Figure size 432x288 with 1 Axes>"
      ]
     },
     "metadata": {
      "needs_background": "light"
     },
     "output_type": "display_data"
    }
   ],
   "source": [
    "fpr, tpr, _ = roc_curve(Y_test,  y_pred_test)\n",
    "\n",
    "#create ROC curve\n",
    "plt.plot(fpr,tpr)\n",
    "plt.ylabel('True Positive Rate')\n",
    "plt.xlabel('False Positive Rate')\n",
    "plt.show()"
   ]
  },
  {
   "cell_type": "code",
   "execution_count": null,
   "id": "d0b9abe8",
   "metadata": {},
   "outputs": [],
   "source": []
  },
  {
   "cell_type": "markdown",
   "id": "20001876",
   "metadata": {},
   "source": [
    "## SVM"
   ]
  },
  {
   "cell_type": "code",
   "execution_count": 69,
   "id": "6fa6a259",
   "metadata": {},
   "outputs": [
    {
     "data": {
      "text/plain": [
       "LinearSVC(C=0.1, random_state=1)"
      ]
     },
     "execution_count": 69,
     "metadata": {},
     "output_type": "execute_result"
    }
   ],
   "source": [
    "svm = svm.LinearSVC(C=0.1, random_state=1)\n",
    "svm.fit(X_train_features, Y_train)"
   ]
  },
  {
   "cell_type": "markdown",
   "id": "5ff2fdc5",
   "metadata": {},
   "source": [
    "#### Prediction sur les données d'entrainement"
   ]
  },
  {
   "cell_type": "code",
   "execution_count": 70,
   "id": "6d95f452",
   "metadata": {},
   "outputs": [],
   "source": [
    "y_pred = svm.predict(X_train_features)\n",
    "accuracy_training = accuracy_score(Y_train, y_pred)"
   ]
  },
  {
   "cell_type": "code",
   "execution_count": 71,
   "id": "824c9e85",
   "metadata": {},
   "outputs": [
    {
     "name": "stdout",
     "output_type": "stream",
     "text": [
      "accuracy on training data :  0.9879248658318426\n"
     ]
    }
   ],
   "source": [
    "print(\"accuracy on training data : \", accuracy_training)"
   ]
  },
  {
   "cell_type": "markdown",
   "id": "18cf8f25",
   "metadata": {},
   "source": [
    "#### Prediction sur les données de test"
   ]
  },
  {
   "cell_type": "code",
   "execution_count": 72,
   "id": "f2510072",
   "metadata": {},
   "outputs": [],
   "source": [
    "y_pred_test = svm.predict(X_test_features)\n",
    "accuracy_test = accuracy_score(Y_test, y_pred_test)"
   ]
  },
  {
   "cell_type": "code",
   "execution_count": 73,
   "id": "36f08cfe",
   "metadata": {},
   "outputs": [
    {
     "name": "stdout",
     "output_type": "stream",
     "text": [
      "accuracy on test data :  0.9767857142857143\n"
     ]
    }
   ],
   "source": [
    "print(\"accuracy on test data : \", accuracy_test)"
   ]
  },
  {
   "cell_type": "markdown",
   "id": "3c59b14c",
   "metadata": {},
   "source": [
    "#### Roc curve"
   ]
  },
  {
   "cell_type": "code",
   "execution_count": 74,
   "id": "633269dc",
   "metadata": {},
   "outputs": [
    {
     "data": {
      "image/png": "[encoded data removed]",
      "text/plain": [
       "<Figure size 432x288 with 1 Axes>"
      ]
     },
     "metadata": {
      "needs_background": "light"
     },
     "output_type": "display_data"
    }
   ],
   "source": [
    "fpr, tpr, _ = roc_curve(Y_test,  y_pred_test)\n",
    "\n",
    "#create ROC curve\n",
    "plt.plot(fpr,tpr)\n",
    "plt.ylabel('True Positive Rate')\n",
    "plt.xlabel('False Positive Rate')\n",
    "plt.show()"
   ]
  },
  {
   "cell_type": "code",
   "execution_count": null,
   "id": "721be3b2",
   "metadata": {},
   "outputs": [],
   "source": []
  }
 ],
 "metadata": {
  "kernelspec": {
   "display_name": "Python 3 (ipykernel)",
   "language": "python",
   "name": "python3"
  },
  "language_info": {
   "codemirror_mode": {
    "name": "ipython",
    "version": 3
   },
   "file_extension": ".py",
   "mimetype": "text/x-python",
   "name": "python",
   "nbconvert_exporter": "python",
   "pygments_lexer": "ipython3",
   "version": "3.10.2"
  }
 },
 "nbformat": 4,
 "nbformat_minor": 5
}
