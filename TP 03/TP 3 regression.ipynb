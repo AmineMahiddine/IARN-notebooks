{
 "cells": [
  {
   "cell_type": "markdown",
   "metadata": {},
   "source": [
    "### Quadrinôme :\n",
    "- ABDESSAMED BOULARIACHE\n",
    "- KEMOUM Meroua\n",
    "- MAHIDDINE Mohamed Amine\n",
    "- TAZIR REDA"
   ]
  },
  {
   "cell_type": "markdown",
   "metadata": {},
   "source": [
    "# TP 3 Regression linéaire\n",
    "Dans ce TP, nous aimerions prédire l'admission d'un étudiant à une specialité donnée selon ses notes dans deux matières.\n",
    "\n",
    "Pour ce faire, nous étudierons un ensemble de données avec l'admission  (y) et les notes des deux modules (X).\n",
    "\n",
    "La prédiction se fera avec l'agorithme de descente du gradient."
   ]
  },
  {
   "cell_type": "markdown",
   "metadata": {},
   "source": [
    "# Importation des librairies necessaires au travail"
   ]
  },
  {
   "cell_type": "code",
   "execution_count": 1,
   "metadata": {},
   "outputs": [],
   "source": [
    "import numpy as np\n",
    "import matplotlib.pyplot as plt\n",
    "from math import *\n"
   ]
  },
  {
   "cell_type": "markdown",
   "metadata": {},
   "source": [
    "# Lecture des fichiers de données\n",
    "Pour ce TP, nous allons lire les données à partir d'un fichier csv."
   ]
  },
  {
   "cell_type": "code",
   "execution_count": 2,
   "metadata": {},
   "outputs": [
    {
     "data": {
      "text/plain": [
       "(100, 3)"
      ]
     },
     "execution_count": 2,
     "metadata": {},
     "output_type": "execute_result"
    }
   ],
   "source": [
    "# données\n",
    "data = np.genfromtxt('data.csv', delimiter=',', dtype=float)\n",
    "data.shape"
   ]
  },
  {
   "cell_type": "markdown",
   "metadata": {},
   "source": [
    "Dans ces données (data), la première colonne represente la première note, la deuxieme colonne la deuxième note et la troisième colonne represente l'admission à la specialité (1 admis 0 non admis).\n",
    "\n",
    "Chaque ligne represente un exemple de notre ensemble de données. \n",
    "\n",
    "Mettons ces données dans leus vecteurs correspondants."
   ]
  },
  {
   "cell_type": "code",
   "execution_count": 3,
   "metadata": {},
   "outputs": [],
   "source": [
    "# rajoutons l'ordonnée à l'origine theta 0\n",
    "intercept=np.ones((data.shape[0],1))\n",
    "X=np.column_stack((intercept,data[:,0:2]))\n",
    "y = data[:, 2];\n"
   ]
  },
  {
   "cell_type": "code",
   "execution_count": 4,
   "metadata": {},
   "outputs": [
    {
     "name": "stdout",
     "output_type": "stream",
     "text": [
      "X (100, 3)  y  (100,)\n"
     ]
    }
   ],
   "source": [
    "print('X', X.shape ,' y ', y.shape)"
   ]
  },
  {
   "cell_type": "markdown",
   "metadata": {},
   "source": [
    "# Descente du Gradient : Préparation des fonctions"
   ]
  },
  {
   "cell_type": "markdown",
   "metadata": {},
   "source": [
    "### 0- Fonction mpgistique (Sigmoid)\n",
    "<img src=\"sigmoid.PNG\" width=\"150\"/>"
   ]
  },
  {
   "cell_type": "code",
   "execution_count": null,
   "metadata": {},
   "outputs": [],
   "source": []
  },
  {
   "cell_type": "code",
   "execution_count": 5,
   "metadata": {},
   "outputs": [],
   "source": [
    "def Sigmoid(z):\n",
    "    # pour une valeur donnée, cette fonction calculera sa sigmoid\n",
    "    return 1 / (1 + np.exp(-z))"
   ]
  },
  {
   "cell_type": "markdown",
   "metadata": {},
   "source": [
    "### 1- Calcul du coût\n",
    "\n",
    "Cette fonction servira à calculer le cout $J(\\theta_0,\\theta_1)$\n",
    "\n",
    "Elle prendra l'ensemble de données d'apprentissage en entrée ainsi que les paramètres définis initialement\n",
    "- sans vectorisation\n",
    "<img src=\"cost.PNG\" width=\"600\"/>\n",
    "- avec vectorisation\n",
    "<img src=\"cost_vect.PNG\" width=\"500\"/>"
   ]
  },
  {
   "cell_type": "code",
   "execution_count": 6,
   "metadata": {},
   "outputs": [],
   "source": [
    "def computeCost(X, y, theta):\n",
    "    jt=0\n",
    "\n",
    "    for i in range(len(X)):\n",
    "        j = 0\n",
    "        for k in range(X.shape[1]):\n",
    "            j=j+theta[k][0]*X[i,k] \n",
    "        j=y[i] *np.log(Sigmoid(j))+(1-y[i]) *np.log(1-Sigmoid(j)+0.0000001) \n",
    "        jt=jt+j\n",
    "    jt=(-jt)/((len(X)))\n",
    "    return jt"
   ]
  },
  {
   "cell_type": "markdown",
   "metadata": {},
   "source": [
    "### 2- Fonction de la descente du gradient\n",
    "\n",
    "Cette fonction mettra à jour les paramètres $\\theta_0,\\theta_1$ jusqu'à convergence: atteinte du nombre d'itérations max, ou dérivée assez petite.\n",
    "\n",
    "<img src=\"gradient.PNG\" width=\"400\"/>\n",
    "- avec vectorisation :\n",
    "<img src=\"gradient_vect.PNG\" width=\"300\"/>"
   ]
  },
  {
   "cell_type": "markdown",
   "metadata": {},
   "source": [
    "### avec vectorisation"
   ]
  },
  {
   "cell_type": "code",
   "execution_count": 7,
   "metadata": {},
   "outputs": [],
   "source": [
    "def gradientDescent(X, y, theta, alpha, iterations):\n",
    "    m = y.shape[0] #len(X)                                                             \n",
    "\n",
    "    all_cost = []\n",
    "    all_theta = [theta]\n",
    "    for i in range(iterations):  \n",
    "        all_cost.append(computeCost(X, y, theta)) # garder aussi le cout à chaque itération \n",
    "        \n",
    "        H = Sigmoid(np.matmul(X, theta))\n",
    "        H = H.reshape((H.shape[0],))\n",
    "        diff = np.subtract(H, y)\n",
    "        a = np.matmul(np.transpose(X), diff).reshape((theta.shape[0],1))\n",
    "\n",
    "        theta = theta - (alpha/m) * a\n",
    "        all_theta.append(theta)\n",
    "        \n",
    "    return all_theta, all_cost\n"
   ]
  },
  {
   "cell_type": "markdown",
   "metadata": {},
   "source": [
    "### sans vectorisation"
   ]
  },
  {
   "cell_type": "code",
   "execution_count": 8,
   "metadata": {},
   "outputs": [],
   "source": [
    "\n",
    "all_t0=[]\n",
    "all_t1=[]\n",
    "all_t2=[]\n",
    "all_costs=[]\n",
    "\n",
    "def j(theta, X,y):\n",
    "    theta_new=[]\n",
    "    for l in range (X.shape[1]):\n",
    "        j = 0\n",
    "        for i in range(len(X)):\n",
    "            t = 0\n",
    "            for k in range (X.shape[1]):\n",
    "                t=t+theta[k][0]*X[i, k]\n",
    "            t-Sigmoid(t)\n",
    "            t=t-y[i]\n",
    "            j=j+t*X[1,l]\n",
    "        j=j/len(X)\n",
    "        theta_new.append(j)\n",
    "    return theta_new\n",
    "\n",
    "\n",
    "def gradientDescentsans(x, y, theta, alpha, iterations): \n",
    "\n",
    "\n",
    "    # GDMV\n",
    "    i = 0\n",
    "    while(i<iterations):\n",
    "\n",
    "        jd=[]\n",
    "        jd=j(theta, X,y)\n",
    "\n",
    "        for k in range(len(jd)):\n",
    "            theta[k][0] = theta[k][0]-alpha*jd[k]\n",
    "        if k==0:\n",
    "            all_t0.append(theta[k][0]) \n",
    "        if k==1:\n",
    "            all_t1.append(theta[k][0])\n",
    "        if k==2:\n",
    "            all_t2.append(theta[k][0])\n",
    "        all_costs.append(computeCost(X, y, theta))\n",
    "\n",
    "        i=i+1\n",
    "\n"
   ]
  },
  {
   "cell_type": "markdown",
   "metadata": {},
   "source": [
    "# Descente du Gradient : Appel des fonctions"
   ]
  },
  {
   "cell_type": "markdown",
   "metadata": {},
   "source": [
    "Initialisation de $\\theta_0$ et $\\theta_1$"
   ]
  },
  {
   "cell_type": "code",
   "execution_count": 9,
   "metadata": {
    "scrolled": true
   },
   "outputs": [
    {
     "name": "stdout",
     "output_type": "stream",
     "text": [
      "[[0.]\n",
      " [0.]\n",
      " [0.]]\n"
     ]
    }
   ],
   "source": [
    "n=X.shape[1]\n",
    "theta = np.zeros((n, 1))\n",
    "\n",
    "print(theta)"
   ]
  },
  {
   "cell_type": "code",
   "execution_count": 10,
   "metadata": {},
   "outputs": [
    {
     "data": {
      "text/plain": [
       "((100, 3), (3, 1), (100,))"
      ]
     },
     "execution_count": 10,
     "metadata": {},
     "output_type": "execute_result"
    }
   ],
   "source": [
    "X.shape, theta.shape, y.shape"
   ]
  },
  {
   "cell_type": "markdown",
   "metadata": {},
   "source": [
    "Calculer le cout initial"
   ]
  },
  {
   "cell_type": "code",
   "execution_count": 11,
   "metadata": {},
   "outputs": [
    {
     "name": "stdout",
     "output_type": "stream",
     "text": [
      "0.6931471005599541\n"
     ]
    }
   ],
   "source": [
    "initialCost=computeCost(X, y, theta)\n",
    "\n",
    "print(initialCost)"
   ]
  },
  {
   "cell_type": "markdown",
   "metadata": {},
   "source": [
    "Appel des la fonction de calcul du gradient"
   ]
  },
  {
   "cell_type": "code",
   "execution_count": 14,
   "metadata": {},
   "outputs": [
    {
     "name": "stdout",
     "output_type": "stream",
     "text": [
      "temps d'execution :  102.11640763282776\n",
      "[[-6.26835023]\n",
      " [ 0.28185706]\n",
      " [ 0.2482775 ]]\n"
     ]
    }
   ],
   "source": [
    "import time\n",
    "# paramètres\n",
    "iterations = 15000;\n",
    "alpha = 0.01;\n",
    "\n",
    "# Appel\n",
    "\n",
    "start = 0\n",
    "start =  time.time()\n",
    "\n",
    "theta, cost = gradientDescent (X, y, theta, alpha, iterations)\n",
    "#gradientDescentsans (X, y, theta, alpha, iterations)\n",
    "end = time.time()\n",
    "\n",
    "print(\"temps d'execution : \",end -start)\n",
    "\n",
    "\n",
    "# Meilleure theta\n",
    "best_theta = theta[-1]\n",
    "print(best_theta)"
   ]
  },
  {
   "cell_type": "markdown",
   "metadata": {},
   "source": [
    "Traçage de la fonction du coût"
   ]
  },
  {
   "cell_type": "code",
   "execution_count": 15,
   "metadata": {},
   "outputs": [
    {
     "data": {
      "text/plain": [
       "Text(0, 0.5, 'Cost')"
      ]
     },
     "execution_count": 15,
     "metadata": {},
     "output_type": "execute_result"
    },
    {
     "data": {
      "image/png": "[encoded data removed]",
      "text/plain": [
       "<Figure size 432x288 with 1 Axes>"
      ]
     },
     "metadata": {
      "needs_background": "light"
     },
     "output_type": "display_data"
    }
   ],
   "source": [
    "plt.plot(cost)\n",
    "\n",
    "#labels\n",
    "plt.title('Cost over iterations')\n",
    "plt.xlabel(\"Iterations\")\n",
    "plt.ylabel(\"Cost\")"
   ]
  },
  {
   "cell_type": "markdown",
   "metadata": {},
   "source": [
    "Notons que $\\theta^T  x$ est équivalent à $X  \\theta $ où $X= \\begin{pmatrix}\n",
    "..(x^{(1)})^T..\\\\\n",
    "..(x^{(2)})^T..\\\\\n",
    ".\\\\\n",
    ".\\\\\n",
    ".\\\\\n",
    "..(x^{(m)})^T..\n",
    "\\end{pmatrix} $"
   ]
  },
  {
   "cell_type": "markdown",
   "metadata": {},
   "source": [
    "# Dessin de la limite de decision (Descision Boundary)\n",
    "Dans cette partie, nous aimerions dessiner la ligne separatrice d nos données\n",
    "<img src=\"boundry.PNG\" width=\"400\"/>"
   ]
  },
  {
   "cell_type": "code",
   "execution_count": 16,
   "metadata": {},
   "outputs": [],
   "source": [
    "def drawLine(theta, X):\n",
    "\n",
    "    plot_x = np.array([min(X[:, 1]), max(X[:, 1])])\n",
    "    \n",
    "    # Calculate the decision boundary line\n",
    "    plot_y = -(theta[1] * plot_x + theta[0]) / theta[2] \n",
    "\n",
    "   \n",
    "    # Plot\n",
    "    plt.plot(plot_x, (plot_y))\n",
    "    \n",
    "    #plt.axis([0, 20, 0, 20])\n"
   ]
  },
  {
   "cell_type": "markdown",
   "metadata": {},
   "source": [
    "# Affichage \n",
    "Graphe representant les acceptations selon les caracteristiques"
   ]
  },
  {
   "cell_type": "code",
   "execution_count": 17,
   "metadata": {},
   "outputs": [
    {
     "data": {
      "image/png": "[encoded data removed]",
      "text/plain": [
       "<Figure size 432x288 with 1 Axes>"
      ]
     },
     "metadata": {
      "needs_background": "light"
     },
     "output_type": "display_data"
    }
   ],
   "source": [
    "plt.scatter(X[np.where(y==1),1],X[np.where(y==1),2], label=\"accepte\",marker ='o')\n",
    "plt.scatter(X[np.where(y==0),1],X[np.where(y==0),2], label=\"non accepte\",marker ='x')\n",
    "\n",
    "plt.xlabel('Note module 1')\n",
    "plt.ylabel('Note module 2')\n",
    "drawLine(best_theta, X)\n",
    "\n",
    "\n",
    "\n"
   ]
  },
  {
   "cell_type": "markdown",
   "metadata": {},
   "source": [
    "Prédire des valeurs de y"
   ]
  },
  {
   "cell_type": "code",
   "execution_count": 23,
   "metadata": {},
   "outputs": [
    {
     "name": "stdout",
     "output_type": "stream",
     "text": [
      "prediction :  [0.61988986]\n"
     ]
    }
   ],
   "source": [
    "# Predire pour des notes note1= 9 et note2=17\n",
    "predict = np.matmul([1, 9, 17],best_theta)\n",
    "\n",
    "print(\"prediction : \",Sigmoid(predict))"
   ]
  },
  {
   "cell_type": "markdown",
   "metadata": {},
   "source": [
    "# Vérification de l'implementation\n",
    "Comparer vos algorithmes à ceux de scikitlearn"
   ]
  },
  {
   "cell_type": "code",
   "execution_count": 19,
   "metadata": {},
   "outputs": [
    {
     "name": "stdout",
     "output_type": "stream",
     "text": [
      "temps d'execution :  0.07529854774475098\n"
     ]
    }
   ],
   "source": [
    "from sklearn.linear_model import LogisticRegression\n",
    "\n",
    "X2 = X[:,1:]\n",
    "y2 = y\n",
    "start =  time.time()\n",
    "\n",
    "# use LogisticRegression\n",
    "log_reg = LogisticRegression()\n",
    "log_reg.fit(X2, y2)\n",
    "\n",
    "end = time.time()\n",
    "\n",
    "print(\"temps d'execution : \",end -start)\n",
    "\n",
    "\n",
    "# Coefficient of the features in the decision function. (from theta 1 to theta n)\n",
    "parameters = log_reg.coef_[0]\n",
    "\n",
    "# Intercept (a.k.a. bias)  (theta 0)\n",
    "parameter0 = log_reg.intercept_"
   ]
  },
  {
   "cell_type": "code",
   "execution_count": 20,
   "metadata": {},
   "outputs": [
    {
     "name": "stdout",
     "output_type": "stream",
     "text": [
      "theta 1 and theta 2 :\n",
      "[0.94159608 0.91667148]\n",
      "Intercept :\n",
      "[-22.93181743]\n"
     ]
    }
   ],
   "source": [
    "print(\"theta 1 and theta 2 :\")\n",
    "print(parameters)\n",
    "print(\"Intercept :\")\n",
    "print(parameter0)"
   ]
  },
  {
   "cell_type": "markdown",
   "metadata": {},
   "source": [
    "### Graphe representant les acceptations selon les caracteristiques"
   ]
  },
  {
   "cell_type": "code",
   "execution_count": 21,
   "metadata": {},
   "outputs": [
    {
     "data": {
      "text/plain": [
       "[<matplotlib.lines.Line2D at 0x7f7c475ab640>]"
      ]
     },
     "execution_count": 21,
     "metadata": {},
     "output_type": "execute_result"
    },
    {
     "data": {
      "image/png": "[encoded data removed]",
      "text/plain": [
       "<Figure size 720x504 with 1 Axes>"
      ]
     },
     "metadata": {
      "needs_background": "light"
     },
     "output_type": "display_data"
    }
   ],
   "source": [
    "# Plotting the decision boundary\n",
    "fig = plt.figure(figsize=(10,7))\n",
    "\n",
    "plt.scatter(X2[np.where(y2==1),0], X2[np.where(y2==1),1], label=\"accepte\",marker ='o')\n",
    "plt.scatter(X2[np.where(y2==0),0], X2[np.where(y2==0),1], label=\"non accepte\",marker ='x')\n",
    "\n",
    "\n",
    "x_values = [np.min(X2[:,]), np.max(X2[:,] )]\n",
    "# calcul y values\n",
    "y_values = np.dot((-1./parameters[1]), (np.dot(parameters[0],x_values) + parameter0))\n",
    "\n",
    "plt.plot(x_values, y_values, label='Decision Boundary')\n",
    "\n"
   ]
  },
  {
   "cell_type": "markdown",
   "metadata": {},
   "source": [
    "# Renforcement d'apprentissage\n",
    "Mettre ici toute idée qui pourrait renforcer votre apprentissage"
   ]
  },
  {
   "cell_type": "markdown",
   "metadata": {},
   "source": [
    "Il existe différentes approches pour optimiser la fonction de coût :\n",
    "- Conjugate  gradient \n",
    "- BFGS \n",
    "- L-BFGS \n",
    "\n",
    "Ce sont des exemples d'algorithmes d'optimisation plus sophistiqués que la descente de gradient qui permettent d'évoluer beaucoup mieux les plus gros problèmes d'apprentissage."
   ]
  },
  {
   "cell_type": "markdown",
   "metadata": {},
   "source": [
    "### - comparisson skratcch vs sklearn"
   ]
  },
  {
   "cell_type": "markdown",
   "metadata": {},
   "source": [
    "On a trouver precedament dans Dans la version skratch de gradient On a trouver que le temps d'execution :  15.010201215744019 seconds"
   ]
  },
  {
   "cell_type": "markdown",
   "metadata": {},
   "source": [
    " **pour la version de sklearn**"
   ]
  },
  {
   "cell_type": "markdown",
   "metadata": {},
   "source": [
    "temps d'execution :  0.0049779415130615234"
   ]
  },
  {
   "cell_type": "markdown",
   "metadata": {},
   "source": [
    "pour gradientdesentsans()  temps d'execution :  34.421135663986206"
   ]
  },
  {
   "cell_type": "markdown",
   "metadata": {},
   "source": [
    "# Consignes"
   ]
  },
  {
   "cell_type": "markdown",
   "metadata": {},
   "source": [
    "Le travail est à remettre par groupe de 4 au maximum [1..4].\n",
    "\n",
    "Le délai est le vendredi 25 Mars 2022 à 22h\n"
   ]
  },
  {
   "cell_type": "code",
   "execution_count": null,
   "metadata": {},
   "outputs": [],
   "source": [
    "# bonne chance"
   ]
  }
 ],
 "metadata": {
  "kernelspec": {
   "display_name": "Python 3",
   "language": "python",
   "name": "python3"
  },
  "language_info": {
   "codemirror_mode": {
    "name": "ipython",
    "version": 3
   },
   "file_extension": ".py",
   "mimetype": "text/x-python",
   "name": "python",
   "nbconvert_exporter": "python",
   "pygments_lexer": "ipython3",
   "version": "3.8.10"
  }
 },
 "nbformat": 4,
 "nbformat_minor": 2
}
